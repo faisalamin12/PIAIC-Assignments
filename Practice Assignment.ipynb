{
 "cells": [
  {
   "cell_type": "code",
   "execution_count": null,
   "metadata": {},
   "outputs": [],
   "source": [
    "#                         Question 1\n",
    "scores = [67 , 80 , 90 , 78 , 93 , 20 , 79 , 89 , 96 , 97 , 92 , 88 , 79 , 68 , 58 , 100]\n",
    "a_scores = []\n",
    "for i in scores:\n",
    "    if i >= 90:\n",
    "        a_scores.append(i)\n",
    "\n",
    "print(a_scores)"
   ]
  },
  {
   "cell_type": "code",
   "execution_count": null,
   "metadata": {},
   "outputs": [],
   "source": []
  },
  {
   "cell_type": "code",
   "execution_count": null,
   "metadata": {},
   "outputs": [],
   "source": []
  },
  {
   "cell_type": "code",
   "execution_count": null,
   "metadata": {},
   "outputs": [],
   "source": [
    "#                         Question 4\n",
    "\n",
    "p_phrase = \"was it a car or a cat I saw\"\n",
    "r_phrase = \" \"\n",
    "for i in p_phrase: \n",
    "    r_phrase = i + r_phrase \n",
    "    if p_phrase==r_phrase:\n",
    "        print(r_phrase)\n",
    "        \n",
    "\n",
    "print(r_phrase)"
   ]
  }
 ],
 "metadata": {
  "kernelspec": {
   "display_name": "Python 3",
   "language": "python",
   "name": "python3"
  },
  "language_info": {
   "codemirror_mode": {
    "name": "ipython",
    "version": 3
   },
   "file_extension": ".py",
   "mimetype": "text/x-python",
   "name": "python",
   "nbconvert_exporter": "python",
   "pygments_lexer": "ipython3",
   "version": "3.7.3"
  }
 },
 "nbformat": 4,
 "nbformat_minor": 2
}
